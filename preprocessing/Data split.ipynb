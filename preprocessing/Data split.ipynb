{
 "cells": [
  {
   "cell_type": "code",
   "execution_count": 2,
   "metadata": {},
   "outputs": [],
   "source": [
    "###Script to make datset\n",
    "\n",
    "import os\n",
    "import shutil\n",
    "import random            "
   ]
  },
  {
   "cell_type": "code",
   "execution_count": 88,
   "metadata": {},
   "outputs": [],
   "source": [
    "# Update datasets\n",
    "\n",
    "def update(source):\n",
    "    \n",
    "    source_dir = \"All\"+\"/\"+source\n",
    "    dest_dir1 = \"Trainable/disease/\"+source+\"/\"\n",
    "    dest_dir2 = \"Trainable/species/\"+source+\"/\"\n",
    "    dest_dir3 = \"Trainable/disease/\"+\"mixed\"+\"/\"\n",
    "    dest_dir4 = \"Trainable/species/\"+\"mixed\"+\"/\"\n",
    "\n",
    "    #open source directory\n",
    "    for a in os.listdir(source_dir):\n",
    "        for b in os.listdir(source_dir+\"/\"+a):\n",
    "                #open images\n",
    "                files = os.listdir(source_dir+\"/\"+a+\"/\"+b)\n",
    "                if len(files) == 0 :\n",
    "                    break\n",
    "                else:\n",
    "                    #initialize train images number list\n",
    "                    train_image_nums = []\n",
    "                    for eachNum in range(len(files)):\n",
    "                        train_image_nums.append(eachNum)\n",
    "                    #20% images randomly chosen for validation    \n",
    "                    test_image_nums = random.sample(range(len(files)),int(len(files)/5))\n",
    "                    #move test images to targeted folder\n",
    "                    for n in test_image_nums:\n",
    "                        train_image_nums.remove(n)\n",
    "                        shutil.copy(source_dir+\"/\"+a+\"/\"+b+\"/\"+files[n], dest_dir1+a+'/'+\"validation\"+'/'+b+'/'+files[n])\n",
    "                        shutil.copy(source_dir+\"/\"+a+\"/\"+b+\"/\"+files[n], dest_dir2+\"validation\"+'/'+a+'/'+b+'/'+files[n])\n",
    "                        shutil.copy(source_dir+\"/\"+a+\"/\"+b+\"/\"+files[n], dest_dir3+a+'/'+\"validation\"+'/'+b+'/'+files[n])\n",
    "                        shutil.move(source_dir+\"/\"+a+\"/\"+b+\"/\"+files[n], dest_dir4+\"validation\"+'/'+a+'/'+b+'/'+files[n])\n",
    "                    #move train images to targeted folder\n",
    "                    for n in train_image_nums:\n",
    "                        shutil.copy(source_dir+\"/\"+a+\"/\"+b+\"/\"+files[n], dest_dir1+a+'/'+\"train\"+'/'+b+'/'+files[n])\n",
    "                        shutil.copy(source_dir+\"/\"+a+\"/\"+b+\"/\"+files[n], dest_dir2+\"train\"+'/'+a+'/'+b+'/'+files[n])\n",
    "                        shutil.copy(source_dir+\"/\"+a+\"/\"+b+\"/\"+files[n], dest_dir3+a+'/'+\"train\"+'/'+b+'/'+files[n])\n",
    "                        shutil.move(source_dir+\"/\"+a+\"/\"+b+\"/\"+files[n], dest_dir4+\"train\"+'/'+a+'/'+b+'/'+files[n])\n",
    "                \n",
    "                "
   ]
  },
  {
   "cell_type": "code",
   "execution_count": 89,
   "metadata": {},
   "outputs": [],
   "source": [
    "update(\"original\")\n",
    "update(\"augmented\")"
   ]
  },
  {
   "cell_type": "code",
   "execution_count": 8,
   "metadata": {},
   "outputs": [
    {
     "ename": "TypeError",
     "evalue": "'builtin_function_or_method' object is not subscriptable",
     "output_type": "error",
     "traceback": [
      "\u001b[1;31m---------------------------------------------------------------------------\u001b[0m",
      "\u001b[1;31mTypeError\u001b[0m                                 Traceback (most recent call last)",
      "\u001b[1;32m<ipython-input-8-e77811649631>\u001b[0m in \u001b[0;36m<module>\u001b[1;34m\u001b[0m\n\u001b[0;32m      2\u001b[0m \u001b[0my\u001b[0m \u001b[1;33m=\u001b[0m \u001b[1;33m[\u001b[0m\u001b[1;34m'c'\u001b[0m\u001b[1;33m,\u001b[0m\u001b[1;34m'd'\u001b[0m\u001b[1;33m]\u001b[0m\u001b[1;33m\u001b[0m\u001b[1;33m\u001b[0m\u001b[0m\n\u001b[0;32m      3\u001b[0m \u001b[0mz\u001b[0m \u001b[1;33m=\u001b[0m \u001b[1;33m[\u001b[0m\u001b[0mx\u001b[0m\u001b[1;33m,\u001b[0m\u001b[0my\u001b[0m\u001b[1;33m]\u001b[0m\u001b[1;33m\u001b[0m\u001b[1;33m\u001b[0m\u001b[0m\n\u001b[1;32m----> 4\u001b[1;33m \u001b[0mprint\u001b[0m\u001b[1;33m[\u001b[0m\u001b[1;33m(\u001b[0m\u001b[0mz\u001b[0m\u001b[1;33m[\u001b[0m\u001b[1;36m1\u001b[0m\u001b[1;33m]\u001b[0m\u001b[1;33m)\u001b[0m\u001b[1;33m[\u001b[0m\u001b[1;36m0\u001b[0m\u001b[1;33m]\u001b[0m\u001b[1;33m]\u001b[0m\u001b[1;33m\u001b[0m\u001b[1;33m\u001b[0m\u001b[0m\n\u001b[0m",
      "\u001b[1;31mTypeError\u001b[0m: 'builtin_function_or_method' object is not subscriptable"
     ]
    }
   ],
   "source": [
    "x = ['a','b']\n",
    "y = ['c','d']\n",
    "z = [x,y]\n",
    "print[(z[1])[0]]"
   ]
  },
  {
   "cell_type": "code",
   "execution_count": null,
   "metadata": {},
   "outputs": [],
   "source": []
  }
 ],
 "metadata": {
  "kernelspec": {
   "display_name": "Python 3",
   "language": "python",
   "name": "python3"
  },
  "language_info": {
   "codemirror_mode": {
    "name": "ipython",
    "version": 3
   },
   "file_extension": ".py",
   "mimetype": "text/x-python",
   "name": "python",
   "nbconvert_exporter": "python",
   "pygments_lexer": "ipython3",
   "version": "3.7.1"
  }
 },
 "nbformat": 4,
 "nbformat_minor": 2
}
